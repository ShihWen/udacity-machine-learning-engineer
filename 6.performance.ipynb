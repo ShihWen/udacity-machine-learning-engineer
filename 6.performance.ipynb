{
 "cells": [
  {
   "cell_type": "code",
   "execution_count": 5,
   "id": "following-infrared",
   "metadata": {},
   "outputs": [],
   "source": [
    "import pandas as pd\n",
    "from sklearn.metrics import mean_squared_error"
   ]
  },
  {
   "cell_type": "code",
   "execution_count": 9,
   "id": "charitable-shift",
   "metadata": {},
   "outputs": [
    {
     "name": "stdout",
     "output_type": "stream",
     "text": [
      "The RMSE of Taipei Main Station is: 1423.3495136425324\n",
      "The RMSE of Taipei City Hall is: 1391.2082767836694\n"
     ]
    }
   ],
   "source": [
    "df_tch = pd.read_csv('benchmark_tch.csv')\n",
    "#display(df_tch.head())\n",
    "rms_tch = mean_squared_error(df_tch['target'], df_tch['0.5'], squared=False)\n",
    "\n",
    "df_tms = pd.read_csv('benchmark_tms.csv')\n",
    "#display(df_tms.head())\n",
    "rms_tms = mean_squared_error(df_tms['target'], df_tms['0.5'], squared=False)\n",
    "\n",
    "\n",
    "print('The RMSE of Taipei Main Station is: {}'.format(rms_tms))\n",
    "print('The RMSE of Taipei City Hall is: {}'.format(rms_tch))"
   ]
  },
  {
   "cell_type": "code",
   "execution_count": null,
   "id": "usual-affiliation",
   "metadata": {},
   "outputs": [],
   "source": []
  }
 ],
 "metadata": {
  "kernelspec": {
   "display_name": "conda_amazonei_mxnet_p36",
   "language": "python",
   "name": "conda_amazonei_mxnet_p36"
  },
  "language_info": {
   "codemirror_mode": {
    "name": "ipython",
    "version": 3
   },
   "file_extension": ".py",
   "mimetype": "text/x-python",
   "name": "python",
   "nbconvert_exporter": "python",
   "pygments_lexer": "ipython3",
   "version": "3.6.13"
  }
 },
 "nbformat": 4,
 "nbformat_minor": 5
}
